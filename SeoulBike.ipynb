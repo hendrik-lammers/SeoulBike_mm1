{
 "cells": [
  {
   "cell_type": "markdown",
   "id": "c00156a0-8dc5-4d82-a202-d4d92ef24e41",
   "metadata": {},
   "source": [
    "# Seoul Bike - Predict rented bike count by weather and derive business implications"
   ]
  },
  {
   "cell_type": "markdown",
   "id": "c7df3c2b-72c5-410a-81f1-aded1bd68611",
   "metadata": {},
   "source": [
    "Version: <b>0.9</b><br>\n",
    "author: <b>Hendrik Lammers</b>"
   ]
  },
  {
   "cell_type": "markdown",
   "id": "2c83f90f-f7ee-4716-af9f-0ece730523ac",
   "metadata": {},
   "source": [
    "The two possible scenarios known from a foreign report are:\n",
    "* 70 % Probability of +2 °C of average temperature ceteris paribus\n",
    "* 30 % Probability of +3 percentage points in the average humidity ceteris paribus"
   ]
  },
  {
   "cell_type": "markdown",
   "id": "bad75222-fbec-48f9-85c6-e10fbedd9c84",
   "metadata": {},
   "source": [
    "### Imports"
   ]
  },
  {
   "cell_type": "code",
   "execution_count": null,
   "id": "53762736-a0fe-4a16-9c9f-b92205f69de3",
   "metadata": {},
   "outputs": [],
   "source": [
    "import numpy as np\n",
    "import pandas as pd\n",
    "import matplotlib.pyplot as plt\n",
    "import seaborn as sns\n",
    "import math"
   ]
  },
  {
   "cell_type": "markdown",
   "id": "1b9cde8a-e9b8-419b-8e57-77f125838519",
   "metadata": {},
   "source": [
    "### Exploring Data and Preprocessing"
   ]
  },
  {
   "cell_type": "code",
   "execution_count": null,
   "id": "8884bc30-bf5c-4c2d-93a2-f264c79c1d98",
   "metadata": {},
   "outputs": [],
   "source": [
    "# The dataset is not encoded in utf-8, therefore the encoding needs to be changed\n",
    "df_bike = pd.read_csv(\"./SeoulBikeData.csv\", encoding=\"iso-8859-1\")"
   ]
  },
  {
   "cell_type": "code",
   "execution_count": null,
   "id": "719f286b-499c-4bf2-8371-837ddca06faa",
   "metadata": {},
   "outputs": [],
   "source": [
    "df_bike"
   ]
  },
  {
   "cell_type": "code",
   "execution_count": null,
   "id": "f62ed1c8-4109-467f-b913-dde5780fbabd",
   "metadata": {},
   "outputs": [],
   "source": [
    "# Rename the variables to make them more easy to handle\n",
    "def rename_columns(df: pd.DataFrame) -> pd.DataFrame:\n",
    "    df = df.rename({\n",
    "        \"Rented Bike Count\":\"Rented_Bikes\",\n",
    "        \"Temperature(°C)\":\"Temperature\",\n",
    "        \"Humidity(%)\":\"Humidity\",\n",
    "        \"Wind speed (m/s)\":\"Wind_Speed\",\n",
    "        \"Visibility (10m)\":\"Visibility\",\n",
    "        \"Dew point temperature(°C)\":\"Dew_Point\",\n",
    "        \"Solar Radiation (MJ/m2)\":\"Solar_Radiation\",\n",
    "        \"Rainfall(mm)\":\"Rainfall\",\n",
    "        \"Snowfall (cm)\":\"Snowfall\",\n",
    "        \"Functioning Day\":\"Functioning_Day\"}\n",
    "        ,axis=1)\n",
    "    return df"
   ]
  },
  {
   "cell_type": "code",
   "execution_count": null,
   "id": "f22e0525-6b3e-4596-9b58-9ee4ba3ae580",
   "metadata": {},
   "outputs": [],
   "source": [
    "df_bike = rename_columns(df_bike)"
   ]
  },
  {
   "cell_type": "code",
   "execution_count": null,
   "id": "f24f0915-9c89-4a5d-b3c5-72ebe940f791",
   "metadata": {},
   "outputs": [],
   "source": [
    "def onehot(df: pd.DataFrame, drop_seasons: bool = True) -> pd.DataFrame:\n",
    "    list_seasons = list(df[\"Seasons\"].drop_duplicates())\n",
    "    # Replace Seasons with one-hot encoding\n",
    "    df[list_seasons[1:]] = pd.get_dummies(df_bike[\"Seasons\"],drop_first=True)\n",
    "    \n",
    "    # Turn the string field 'Holiday' into an int field with 1 for Holiday and 0 for No Holiday.\n",
    "    df[\"Holiday\"] = df[\"Holiday\"].map({\"Holiday\": 1, \"No Holiday\": 0})\n",
    "    \n",
    "    # Same for the field 'Functioning_Day'\n",
    "    df[\"Functioning_Day\"] = df[\"Functioning_Day\"].map({\"Yes\": 1, \"No\": 0})\n",
    "    \n",
    "    if drop_seasons:\n",
    "        # The legacy Seasons variable is then no longer needed.\n",
    "        df = df.drop(\"Seasons\",axis=1)\n",
    "    return df"
   ]
  },
  {
   "cell_type": "code",
   "execution_count": null,
   "id": "65055bbf-2859-4877-a7d4-409c62066820",
   "metadata": {},
   "outputs": [],
   "source": [
    "df_bike = onehot(df_bike)"
   ]
  },
  {
   "cell_type": "markdown",
   "id": "661ca808-8f38-400e-bed3-ea678bd077ae",
   "metadata": {},
   "source": [
    "The field named \"Functioning_Day\" could cause confusion later on. Inspect these data."
   ]
  },
  {
   "cell_type": "code",
   "execution_count": null,
   "id": "2c2471bc-ced3-40bd-a44e-03f03096092c",
   "metadata": {},
   "outputs": [],
   "source": [
    "df_bike[df_bike[\"Functioning_Day\"] == 0]"
   ]
  },
  {
   "cell_type": "markdown",
   "id": "eba39784-79ec-4585-9f8e-851fae5fe05e",
   "metadata": {
    "jp-MarkdownHeadingCollapsed": true,
    "tags": []
   },
   "source": [
    "Obviously, the data set contains records where the bike rent wasn't working. Keeping these would imply disorder of prediction of Rented Bike Count. Therefore, they need to be disregarded.\n",
    "\n",
    "(Another option would be to guess the values for these, but in this case there isn't enough information to do that)"
   ]
  },
  {
   "cell_type": "markdown",
   "id": "77d8d0cb-530a-4d64-a03e-15515fb5eef7",
   "metadata": {},
   "source": [
    "#### Delete rows where the bike rent was not working"
   ]
  },
  {
   "cell_type": "code",
   "execution_count": null,
   "id": "d767c1d9-d7ab-41e9-8e9a-8fa628855641",
   "metadata": {},
   "outputs": [],
   "source": [
    "def delete_defects(df: pd.DataFrame, defect_column: str = \"Functioning_Day\") -> pd.DataFrame:\n",
    "    df = df[df[defect_column] == 1]\n",
    "    df = df.drop(defect_column, axis=1)\n",
    "    return df"
   ]
  },
  {
   "cell_type": "code",
   "execution_count": null,
   "id": "c8a82ab3-f234-4fd7-906f-39d9c97d26b0",
   "metadata": {},
   "outputs": [],
   "source": [
    "df_functioning = delete_defects(df_bike)"
   ]
  },
  {
   "cell_type": "code",
   "execution_count": null,
   "id": "8b906ea2-150b-4933-9989-a966b3e08a79",
   "metadata": {},
   "outputs": [],
   "source": [
    "# Check for inanppropriate data types\n",
    "df_functioning.info()"
   ]
  },
  {
   "cell_type": "code",
   "execution_count": null,
   "id": "874fe771-aafd-4849-b5dd-100cc9b7fa25",
   "metadata": {},
   "outputs": [],
   "source": [
    "# Check for missing values\n",
    "df_functioning.isnull().any()"
   ]
  },
  {
   "cell_type": "code",
   "execution_count": null,
   "id": "f1a38fdb-a50d-438a-b766-6b022bae0b72",
   "metadata": {},
   "outputs": [],
   "source": [
    "# Get standard measures of location\n",
    "df_functioning.describe()"
   ]
  },
  {
   "cell_type": "code",
   "execution_count": null,
   "id": "5f6e5010-82e4-4d51-9c8a-6957ae3fdc3c",
   "metadata": {},
   "outputs": [],
   "source": [
    "# Look at the distribution of the features and the target variable which is obviously right-skewed.\n",
    "df_functioning.hist(figsize=(20,15), bins=20)\n",
    "plt.show()"
   ]
  },
  {
   "cell_type": "code",
   "execution_count": null,
   "id": "b4882264-7bec-46cf-9602-d1ad4bd931a8",
   "metadata": {},
   "outputs": [],
   "source": [
    "# Lastly, Look at the final dataframe to see if there is anything out of the ordinary\n",
    "df_functioning"
   ]
  },
  {
   "cell_type": "markdown",
   "id": "f55c8c4c-4eff-435f-9021-8df2e3ace8d2",
   "metadata": {},
   "source": [
    "#### Check for correlation of feature variables"
   ]
  },
  {
   "cell_type": "code",
   "execution_count": null,
   "id": "7d241ef5-2e78-44fb-b5db-0f14706bfb19",
   "metadata": {},
   "outputs": [],
   "source": [
    "plt.figure(figsize=(8,8))\n",
    "sns.heatmap(df_functioning.corr(),cmap=\"coolwarm\",linecolor=\"white\",linewidths=1)\n",
    "plt.plot()"
   ]
  },
  {
   "cell_type": "markdown",
   "id": "c6448bd3-95da-4fdb-8724-f8ea6c6c3c37",
   "metadata": {},
   "source": [
    "Temperature and Humidity are correlated with Dewpoint - which is not surprising, as Dewpoints are dependent on Temperature and Humidity.<br>\n",
    "Also, the correlation of temperature and is_summer and is_winter respectively can be observed."
   ]
  },
  {
   "cell_type": "markdown",
   "id": "6ea37cea-36b3-430f-82ba-04f4bdebd7ff",
   "metadata": {},
   "source": [
    "### Model the data"
   ]
  },
  {
   "cell_type": "code",
   "execution_count": null,
   "id": "564db7c7-7b37-435d-b5fe-03191fa133dd",
   "metadata": {},
   "outputs": [],
   "source": [
    "X = df_functioning.drop([\"Date\",\"Hour\",\"Rented_Bikes\"], axis=1)\n",
    "y = df_functioning[\"Rented_Bikes\"]"
   ]
  },
  {
   "cell_type": "code",
   "execution_count": null,
   "id": "f196de1e-0a4a-4abf-a17d-354237a6b9e9",
   "metadata": {},
   "outputs": [],
   "source": [
    "from sklearn.model_selection import train_test_split"
   ]
  },
  {
   "cell_type": "code",
   "execution_count": null,
   "id": "986af72f-ab96-4fff-80b6-efd036128caa",
   "metadata": {},
   "outputs": [],
   "source": [
    "# As we have not many observations, level the test-size down a bit from standard 0.25 to get more training data.\n",
    "X_train, X_test, y_train, y_test = train_test_split(X,y, test_size=0.2)"
   ]
  },
  {
   "cell_type": "markdown",
   "id": "8666233b-8765-43d9-bf22-bd9c6512ada8",
   "metadata": {},
   "source": [
    "#### Try linear regression first"
   ]
  },
  {
   "cell_type": "code",
   "execution_count": null,
   "id": "af895cd8-bf1a-4ae1-a9c2-ed7d84d72047",
   "metadata": {},
   "outputs": [],
   "source": [
    "from sklearn.linear_model import LinearRegression"
   ]
  },
  {
   "cell_type": "code",
   "execution_count": null,
   "id": "7a8882d7-2467-4f73-96af-e5e2c2019360",
   "metadata": {},
   "outputs": [],
   "source": [
    "lr = LinearRegression()"
   ]
  },
  {
   "cell_type": "code",
   "execution_count": null,
   "id": "12cad416-aa89-4531-88e6-b43c325946f4",
   "metadata": {},
   "outputs": [],
   "source": [
    "lr.fit(X_train, y_train)"
   ]
  },
  {
   "cell_type": "code",
   "execution_count": null,
   "id": "1be211b4-3402-471d-9919-773941356e9d",
   "metadata": {},
   "outputs": [],
   "source": [
    "lr_prediction = lr.predict(X_test)"
   ]
  },
  {
   "cell_type": "code",
   "execution_count": null,
   "id": "03fec5ce-ce28-42e3-afa7-13b98ebcb9d3",
   "metadata": {},
   "outputs": [],
   "source": [
    "from sklearn.metrics import r2_score, mean_squared_error"
   ]
  },
  {
   "cell_type": "code",
   "execution_count": null,
   "id": "0652e09e-8769-45b4-9a6e-05bb8a6a93aa",
   "metadata": {},
   "outputs": [],
   "source": [
    "r2_score(y_test, lr_prediction)"
   ]
  },
  {
   "cell_type": "code",
   "execution_count": null,
   "id": "2b3f5af9-2c87-403c-8233-e5dc5362b622",
   "metadata": {},
   "outputs": [],
   "source": [
    "mean_squared_error(y_test, lr_prediction, squared=False)"
   ]
  },
  {
   "cell_type": "markdown",
   "id": "7f3b8118-9280-4058-8475-f95098875320",
   "metadata": {},
   "source": [
    "That was no good prediction obviously, the results are pretty poor. Try another model."
   ]
  },
  {
   "cell_type": "markdown",
   "id": "17e9f05c-618a-49fb-9d30-3dd5a860db05",
   "metadata": {
    "tags": []
   },
   "source": [
    "#### Try Gradient Boosting Regressor"
   ]
  },
  {
   "cell_type": "code",
   "execution_count": null,
   "id": "66e7e17f-c6d2-4ce5-9d6b-97e7e16fad93",
   "metadata": {},
   "outputs": [],
   "source": [
    "from sklearn.ensemble import GradientBoostingRegressor"
   ]
  },
  {
   "cell_type": "code",
   "execution_count": null,
   "id": "27dbd2d5-0190-42d1-b123-dfb999f98810",
   "metadata": {},
   "outputs": [],
   "source": [
    "gb = GradientBoostingRegressor(n_estimators=500,random_state=1)"
   ]
  },
  {
   "cell_type": "code",
   "execution_count": null,
   "id": "c5c5c7e6-634c-4b02-908c-e02f83561f58",
   "metadata": {},
   "outputs": [],
   "source": [
    "gb.fit(X_train, y_train)"
   ]
  },
  {
   "cell_type": "code",
   "execution_count": null,
   "id": "99692460-7ab4-4a7d-b755-b5f50ed2e03d",
   "metadata": {},
   "outputs": [],
   "source": [
    "gb_prediction = gb.predict(X_test)"
   ]
  },
  {
   "cell_type": "code",
   "execution_count": null,
   "id": "f9701cad-615e-4e9d-98d5-9583e41639d4",
   "metadata": {},
   "outputs": [],
   "source": [
    "r2_score(y_test, gb_prediction)"
   ]
  },
  {
   "cell_type": "code",
   "execution_count": null,
   "id": "335ac03e-a79b-4094-9685-d3ae173e89e1",
   "metadata": {},
   "outputs": [],
   "source": [
    "mean_squared_error(y_test, gb_prediction, squared=False)"
   ]
  },
  {
   "cell_type": "markdown",
   "id": "7c0576d1-7e00-4f75-93fe-bcb76e78996d",
   "metadata": {},
   "source": [
    "Gradient Boosting Regressor has much better performance, but still there is a pretty high RMSE."
   ]
  },
  {
   "cell_type": "markdown",
   "id": "f5a900fc-525d-4bb4-9c9b-2fd6986d512b",
   "metadata": {},
   "source": [
    "#### Try Random Forest Regressor"
   ]
  },
  {
   "cell_type": "code",
   "execution_count": null,
   "id": "d1134995-12b0-4dc6-aa97-3495b6b1fbc2",
   "metadata": {},
   "outputs": [],
   "source": [
    "from sklearn.ensemble import RandomForestRegressor"
   ]
  },
  {
   "cell_type": "code",
   "execution_count": null,
   "id": "b6f21a35-f023-4292-851a-f4e8fd9a6083",
   "metadata": {},
   "outputs": [],
   "source": [
    "rf = RandomForestRegressor(n_estimators=500, random_state=1) # Values are arbitrarily chosen - 500 estimators is usually a good starting point."
   ]
  },
  {
   "cell_type": "code",
   "execution_count": null,
   "id": "a8f279bf-d628-4005-991d-d27808390d5c",
   "metadata": {},
   "outputs": [],
   "source": [
    "rf.fit(X_train, y_train)"
   ]
  },
  {
   "cell_type": "code",
   "execution_count": null,
   "id": "998e816a-6b32-42f9-8033-875b3c971680",
   "metadata": {},
   "outputs": [],
   "source": [
    "rf_prediction = rf.predict(X_test)"
   ]
  },
  {
   "cell_type": "code",
   "execution_count": null,
   "id": "e0cccc0b-e33a-4b63-a49c-b838594f369a",
   "metadata": {},
   "outputs": [],
   "source": [
    "r2_score(y_test, rf_prediction)"
   ]
  },
  {
   "cell_type": "code",
   "execution_count": null,
   "id": "8073cfa2-c7a9-4f51-bf20-52cabe0f6c6a",
   "metadata": {},
   "outputs": [],
   "source": [
    "mean_squared_error(y_test,rf_prediction,squared=False) # Calculate Root Mean Squared Error of RF Prediction"
   ]
  },
  {
   "cell_type": "markdown",
   "id": "5043c8c5-79cd-438e-8aac-1d025116c161",
   "metadata": {},
   "source": [
    "Random Forest has the best performance so far, though RMSE is still pretty high. Therefore choose Random Forest."
   ]
  },
  {
   "cell_type": "markdown",
   "id": "832784d9-5188-46d2-b265-c8c02756ba83",
   "metadata": {},
   "source": [
    "### Hyperparameter Optimization"
   ]
  },
  {
   "cell_type": "code",
   "execution_count": null,
   "id": "516fea79-4817-4a31-9d50-4e3876fe061b",
   "metadata": {},
   "outputs": [],
   "source": [
    "from sklearn.model_selection import GridSearchCV"
   ]
  },
  {
   "cell_type": "code",
   "execution_count": null,
   "id": "498d229f-7b09-424f-ab78-b2044a0307bb",
   "metadata": {},
   "outputs": [],
   "source": [
    "# Try to optimize number of estimators and max_features. Also, try using the whole dataset for building each tree.\n",
    "param_grid = [\n",
    "    {\"n_estimators\": [10,100,300,500], \"max_features\": [9,10,11,12]},\n",
    "    {\"bootstrap\": [False], \"n_estimators\": [10,100,300,500], \"max_features\": [9,10,11,12]}\n",
    "]"
   ]
  },
  {
   "cell_type": "code",
   "execution_count": null,
   "id": "4e0a4d72-5bfa-4115-b62d-133fa8aa3473",
   "metadata": {},
   "outputs": [],
   "source": [
    "rf_2 = RandomForestRegressor()\n",
    "grid_search = GridSearchCV(rf_2, param_grid, cv=5, scoring=\"neg_mean_squared_error\",return_train_score=True)\n",
    "grid_search.fit(X,y)"
   ]
  },
  {
   "cell_type": "code",
   "execution_count": null,
   "id": "0f100074-cc61-408c-9071-f72f2b7269ea",
   "metadata": {},
   "outputs": [],
   "source": [
    "grid_search.best_params_"
   ]
  },
  {
   "cell_type": "markdown",
   "id": "af9cead8-c1af-457b-b13f-ec80c5f9f673",
   "metadata": {},
   "source": [
    "9 is the lowest value tried out for max_features. Therefore try Grid Search again with lower values for max_features."
   ]
  },
  {
   "cell_type": "code",
   "execution_count": null,
   "id": "669f1646-3b32-4a00-94d3-f91a92f95229",
   "metadata": {},
   "outputs": [],
   "source": [
    "param_grid_2 = [{\"n_estimators\": [80,100,120], \"max_features\":[1,2,3,4,5]}]"
   ]
  },
  {
   "cell_type": "code",
   "execution_count": null,
   "id": "b26cc8b2-dff2-4397-a81f-9c502e67e2dd",
   "metadata": {},
   "outputs": [],
   "source": [
    "rf_3 = RandomForestRegressor()\n",
    "grid_search_2 = GridSearchCV(rf_3, param_grid_2, cv=5, scoring=\"neg_mean_squared_error\", return_train_score=True)\n",
    "grid_search_2.fit(X,y)"
   ]
  },
  {
   "cell_type": "code",
   "execution_count": null,
   "id": "8b59ef19-88aa-4188-a272-10390fb0c1f1",
   "metadata": {},
   "outputs": [],
   "source": [
    "grid_search_2.best_params_"
   ]
  },
  {
   "cell_type": "markdown",
   "id": "fdf4bebe-9a9c-4e7d-9e0a-1330111addb1",
   "metadata": {},
   "source": [
    "2 seems to be the optimal value for max_features."
   ]
  },
  {
   "cell_type": "code",
   "execution_count": null,
   "id": "c59ee10d-aaca-4c79-9124-71143df9e3e6",
   "metadata": {},
   "outputs": [],
   "source": [
    "rf_4 = RandomForestRegressor(max_features=2)\n",
    "rf_4.fit(X_train,y_train)\n",
    "rf4_pred = rf_4.predict(X_test)"
   ]
  },
  {
   "cell_type": "code",
   "execution_count": null,
   "id": "961e10f7-1c27-4ad4-9fb5-db5f6dc22cca",
   "metadata": {},
   "outputs": [],
   "source": [
    "mean_squared_error(y_test,rf4_pred,squared=False)"
   ]
  },
  {
   "cell_type": "code",
   "execution_count": null,
   "id": "edb83658-6ed4-403d-a5bb-b0c6bf2eb58c",
   "metadata": {},
   "outputs": [],
   "source": [
    "r2_score(y_test,rf4_pred)"
   ]
  },
  {
   "cell_type": "markdown",
   "id": "600ada11-7823-4c2f-9361-a90da0c0984c",
   "metadata": {},
   "source": [
    "Still a pretty high RMSE. Probably the observations are not very generalizable. A next step could be to take more observations to better generalize.<br>\n",
    "Another possibility is a bias by missing out important features. The R²-Score is 71 %, meaning the features can explain around 71 % of the variance of the target variable. A second next step could therefore be to try to enrich the observations by more features to be able to explain more of the variance."
   ]
  },
  {
   "cell_type": "markdown",
   "id": "dfa135a0-9153-47eb-9bcb-938f66e6e0f3",
   "metadata": {},
   "source": [
    "### Check for most important features"
   ]
  },
  {
   "cell_type": "markdown",
   "id": "a2e66773-b485-44b7-b3c4-aea47fc4d42f",
   "metadata": {},
   "source": [
    "#### First Random Forest Regressor (no hyperparameter tuning)"
   ]
  },
  {
   "cell_type": "code",
   "execution_count": null,
   "id": "6e8d18c2-38fc-42b0-aa54-6c9b12bf260e",
   "metadata": {},
   "outputs": [],
   "source": [
    "feature_importances = pd.DataFrame(rf.feature_importances_, columns=[\"feature importance\"], index=X_train.columns).sort_values(\"feature importance\", ascending=False)"
   ]
  },
  {
   "cell_type": "code",
   "execution_count": null,
   "id": "368dd740-8fac-4993-8c55-d009d737c51d",
   "metadata": {},
   "outputs": [],
   "source": [
    "feature_importances"
   ]
  },
  {
   "cell_type": "markdown",
   "id": "86f6a0df-c82b-4943-b10a-0046cf2c3001",
   "metadata": {},
   "source": [
    "#### Random Forest Regressor with optimized hyperparameters"
   ]
  },
  {
   "cell_type": "code",
   "execution_count": null,
   "id": "628332c0-a9e4-4d71-b3b4-225f25c39fd9",
   "metadata": {},
   "outputs": [],
   "source": [
    "feature_importances_opt = pd.DataFrame(rf_4.feature_importances_, columns=[\"feature importance\"], index=X_train.columns).sort_values(\"feature importance\", ascending=False)"
   ]
  },
  {
   "cell_type": "code",
   "execution_count": null,
   "id": "c1609867-4a93-4dbf-b640-fc6426623512",
   "metadata": {},
   "outputs": [],
   "source": [
    "feature_importances_opt"
   ]
  },
  {
   "cell_type": "markdown",
   "id": "36ae6610-956e-49c1-b34a-5550d084ee22",
   "metadata": {
    "tags": []
   },
   "source": [
    "### Predict Scenario 1: +2 °C in average temperature ceteris paribus"
   ]
  },
  {
   "cell_type": "code",
   "execution_count": null,
   "id": "8501d4cf-7e57-4c7a-8c44-45871c14d3fd",
   "metadata": {},
   "outputs": [],
   "source": [
    "X_sc1 = X.copy()"
   ]
  },
  {
   "cell_type": "markdown",
   "id": "0e9b858f-a15b-44e2-9328-b674a3372bce",
   "metadata": {},
   "source": [
    "There are many permutations of temperature values that form an average of +2 °C against the observed temperatures.<br>\n",
    "A reasonable assumption could be that every temperature value rises by 2 degrees. To get that, simply add +2 on each temperature value."
   ]
  },
  {
   "cell_type": "code",
   "execution_count": null,
   "id": "b2c202cd-8a3f-4534-8359-1a044d789365",
   "metadata": {},
   "outputs": [],
   "source": [
    "X_sc1[\"Temperature\"] = [temperature+2 for temperature in X_sc1[\"Temperature\"]]"
   ]
  },
  {
   "cell_type": "code",
   "execution_count": null,
   "id": "87a7ecc7-a114-4667-8c35-373e9c09e54b",
   "metadata": {},
   "outputs": [],
   "source": [
    "rf_sc1_prediction = rf_4.predict(X_sc1)"
   ]
  },
  {
   "cell_type": "code",
   "execution_count": null,
   "id": "ca595775-adff-4b61-a368-fad5778db166",
   "metadata": {},
   "outputs": [],
   "source": [
    "chg_sc1 = (rf_sc1_prediction.sum() - y.sum()) / y.sum()"
   ]
  },
  {
   "cell_type": "code",
   "execution_count": null,
   "id": "7f0a8224-7394-41cd-8977-fc03517f7713",
   "metadata": {},
   "outputs": [],
   "source": [
    "print(\"Predicted change in Bike Rentals in case of scenario 1: {0} %.\".format(round(chg_sc1 * 100, 2)))"
   ]
  },
  {
   "cell_type": "markdown",
   "id": "6e5a1f4b-1baa-4a7f-b39d-31e3e3daa730",
   "metadata": {},
   "source": [
    "### Predict Scenario 2: +3 percentage points in average humidity ceteris paribus"
   ]
  },
  {
   "cell_type": "code",
   "execution_count": null,
   "id": "1f1befcd-eeda-4b7f-9c7c-645058a54d2f",
   "metadata": {},
   "outputs": [],
   "source": [
    "X_sc2 = X.copy()"
   ]
  },
  {
   "cell_type": "code",
   "execution_count": null,
   "id": "06208490-2b32-4197-837a-43f845e833cf",
   "metadata": {},
   "outputs": [],
   "source": [
    "X_sc2[\"Humidity\"] = [humidity+3 if humidity+3 < 100 else 100 for humidity in X_sc2[\"Humidity\"]]"
   ]
  },
  {
   "cell_type": "code",
   "execution_count": null,
   "id": "6cd6270d-2737-4503-863a-e5f9150065a9",
   "metadata": {},
   "outputs": [],
   "source": [
    "X_sc2"
   ]
  },
  {
   "cell_type": "code",
   "execution_count": null,
   "id": "7d20c85d-2de0-4bdc-8ea0-9b3ee3733f0c",
   "metadata": {},
   "outputs": [],
   "source": [
    "rf_sc2_prediction = rf_4.predict(X_sc2)"
   ]
  },
  {
   "cell_type": "code",
   "execution_count": null,
   "id": "a7d5da11-609e-4df1-aa2b-2824a16e5a83",
   "metadata": {},
   "outputs": [],
   "source": [
    "chg_sc2 = (rf_sc2_prediction.sum() - y.sum()) / y.sum()"
   ]
  },
  {
   "cell_type": "code",
   "execution_count": null,
   "id": "d477d093-5010-42bf-af61-2c5329031c7d",
   "metadata": {},
   "outputs": [],
   "source": [
    "print(\"Predicted change in Bike Rentals in case of scenario 1: {0} %.\".format(round(chg_sc2 * 100, 2)))"
   ]
  },
  {
   "cell_type": "code",
   "execution_count": null,
   "id": "df638376-3baa-4bea-ab66-dfffac74f8a6",
   "metadata": {},
   "outputs": [],
   "source": [
    "expct_value = 0.7 * chg_sc1 + 0.3 * chg_sc2"
   ]
  },
  {
   "cell_type": "code",
   "execution_count": null,
   "id": "d5724d5f-27a4-4dde-bf5a-cf86e36567d5",
   "metadata": {},
   "outputs": [],
   "source": [
    "print(\"The expected growth for Demand Change in Bike Rentals is, according to the probabilities of scenario 1 and scenario 2 respectively, {0} %.\".format(round(expct_value * 100, 2)))"
   ]
  }
 ],
 "metadata": {
  "kernelspec": {
   "display_name": "Python 3 (ipykernel)",
   "language": "python",
   "name": "python3"
  },
  "language_info": {
   "codemirror_mode": {
    "name": "ipython",
    "version": 3
   },
   "file_extension": ".py",
   "mimetype": "text/x-python",
   "name": "python",
   "nbconvert_exporter": "python",
   "pygments_lexer": "ipython3",
   "version": "3.9.7"
  }
 },
 "nbformat": 4,
 "nbformat_minor": 5
}
